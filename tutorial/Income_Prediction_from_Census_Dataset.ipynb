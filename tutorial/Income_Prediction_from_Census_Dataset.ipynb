{
  "nbformat": 4,
  "nbformat_minor": 0,
  "metadata": {
    "colab": {
      "name": "Income_Prediction_from_Census_Dataset.ipynb",
      "provenance": [],
      "collapsed_sections": []
    },
    "kernelspec": {
      "name": "python3",
      "display_name": "Python 3"
    },
    "accelerator": "GPU"
  },
  "cells": [
    {
      "cell_type": "markdown",
      "metadata": {
        "id": "sXW2fugtBsC-"
      },
      "source": [
        "In this notebook, we will predict which individuals make more than $50K from Census data. This is the same dataset used in the AutoGluon tabular prediction example.\n"
      ]
    },
    {
      "cell_type": "code",
      "metadata": {
        "id": "SCadO7hZI_7f",
        "outputId": "d7087fc4-e5b2-400f-d664-8604d3b14a27",
        "colab": {
          "base_uri": "https://localhost:8080/",
          "height": 1000
        }
      },
      "source": [
        "!git clone https://github.com/nageshsinghc4/deepwrap.git\n",
        "!cd deepwrap/\n",
        "import os\n",
        "os.chdir('/content/deepwrap/')\n",
        "os.getcwd()\n",
        "!pip install ."
      ],
      "execution_count": 1,
      "outputs": [
        {
          "output_type": "stream",
          "text": [
            "Cloning into 'deepwrap'...\n",
            "remote: Enumerating objects: 277, done.\u001b[K\n",
            "remote: Counting objects: 100% (277/277), done.\u001b[K\n",
            "remote: Compressing objects: 100% (237/237), done.\u001b[K\n",
            "remote: Total 277 (delta 39), reused 256 (delta 27), pack-reused 0\u001b[K\n",
            "Receiving objects: 100% (277/277), 25.31 MiB | 16.81 MiB/s, done.\n",
            "Resolving deltas: 100% (39/39), done.\n",
            "Processing /content/deepwrap\n",
            "Requirement already satisfied: tensorflow==2.3.0 in /usr/local/lib/python3.6/dist-packages (from DEEPWRAP==50.3.0) (2.3.0)\n",
            "Collecting scipy==1.5.2\n",
            "\u001b[?25l  Downloading https://files.pythonhosted.org/packages/2b/a8/f4c66eb529bb252d50e83dbf2909c6502e2f857550f22571ed8556f62d95/scipy-1.5.2-cp36-cp36m-manylinux1_x86_64.whl (25.9MB)\n",
            "\u001b[K     |████████████████████████████████| 25.9MB 101kB/s \n",
            "\u001b[?25hRequirement already satisfied: scikit-learn>=0.21.3 in /usr/local/lib/python3.6/dist-packages (from DEEPWRAP==50.3.0) (0.22.2.post1)\n",
            "Requirement already satisfied: matplotlib>=3.0.0 in /usr/local/lib/python3.6/dist-packages (from DEEPWRAP==50.3.0) (3.2.2)\n",
            "Requirement already satisfied: pandas>=1.0.1 in /usr/local/lib/python3.6/dist-packages (from DEEPWRAP==50.3.0) (1.1.2)\n",
            "Requirement already satisfied: fastprogress>=0.1.21 in /usr/local/lib/python3.6/dist-packages (from DEEPWRAP==50.3.0) (1.0.0)\n",
            "Collecting keras_bert>=0.81.0\n",
            "  Downloading https://files.pythonhosted.org/packages/e2/7f/95fabd29f4502924fa3f09ff6538c5a7d290dfef2c2fe076d3d1a16e08f0/keras-bert-0.86.0.tar.gz\n",
            "Requirement already satisfied: requests in /usr/local/lib/python3.6/dist-packages (from DEEPWRAP==50.3.0) (2.23.0)\n",
            "Requirement already satisfied: joblib in /usr/local/lib/python3.6/dist-packages (from DEEPWRAP==50.3.0) (0.16.0)\n",
            "Collecting langdetect\n",
            "\u001b[?25l  Downloading https://files.pythonhosted.org/packages/56/a3/8407c1e62d5980188b4acc45ef3d94b933d14a2ebc9ef3505f22cf772570/langdetect-1.0.8.tar.gz (981kB)\n",
            "\u001b[K     |████████████████████████████████| 983kB 49.8MB/s \n",
            "\u001b[?25hRequirement already satisfied: theano in /usr/local/lib/python3.6/dist-packages (from DEEPWRAP==50.3.0) (1.0.5)\n",
            "Requirement already satisfied: jieba in /usr/local/lib/python3.6/dist-packages (from DEEPWRAP==50.3.0) (0.42.1)\n",
            "Collecting cchardet\n",
            "\u001b[?25l  Downloading https://files.pythonhosted.org/packages/1e/c5/7e1a0d7b4afd83d6f8de794fce82820ec4c5136c6d52e14000822681a842/cchardet-2.1.6-cp36-cp36m-manylinux2010_x86_64.whl (241kB)\n",
            "\u001b[K     |████████████████████████████████| 245kB 47.2MB/s \n",
            "\u001b[?25hRequirement already satisfied: networkx>=2.3 in /usr/local/lib/python3.6/dist-packages (from DEEPWRAP==50.3.0) (2.5)\n",
            "Requirement already satisfied: bokeh in /usr/local/lib/python3.6/dist-packages (from DEEPWRAP==50.3.0) (2.1.1)\n",
            "Collecting seqeval\n",
            "  Downloading https://files.pythonhosted.org/packages/bc/6c/71a5ca457851287ceba1c969bfb21f46ffdae7dfae1fa30456ef4bdc6412/seqeval-1.1.0.tar.gz\n",
            "Requirement already satisfied: packaging in /usr/local/lib/python3.6/dist-packages (from DEEPWRAP==50.3.0) (20.4)\n",
            "Requirement already satisfied: tensorflow_datasets in /usr/local/lib/python3.6/dist-packages (from DEEPWRAP==50.3.0) (2.1.0)\n",
            "Collecting transformers>=2.11.0\n",
            "\u001b[?25l  Downloading https://files.pythonhosted.org/packages/19/22/aff234f4a841f8999e68a7a94bdd4b60b4cebcfeca5d67d61cd08c9179de/transformers-3.3.1-py3-none-any.whl (1.1MB)\n",
            "\u001b[K     |████████████████████████████████| 1.1MB 34.1MB/s \n",
            "\u001b[?25hRequirement already satisfied: ipython in /usr/local/lib/python3.6/dist-packages (from DEEPWRAP==50.3.0) (5.5.0)\n",
            "Collecting syntok\n",
            "  Downloading https://files.pythonhosted.org/packages/8c/76/a49e73a04b3e3a14ce232e8e28a1587f8108baa665644fe8c40e307e792e/syntok-1.3.1.tar.gz\n",
            "Collecting whoosh\n",
            "\u001b[?25l  Downloading https://files.pythonhosted.org/packages/ba/19/24d0f1f454a2c1eb689ca28d2f178db81e5024f42d82729a4ff6771155cf/Whoosh-2.7.4-py2.py3-none-any.whl (468kB)\n",
            "\u001b[K     |████████████████████████████████| 471kB 50.9MB/s \n",
            "\u001b[?25hRequirement already satisfied: h5py<2.11.0,>=2.10.0 in /usr/local/lib/python3.6/dist-packages (from tensorflow==2.3.0->DEEPWRAP==50.3.0) (2.10.0)\n",
            "Requirement already satisfied: astunparse==1.6.3 in /usr/local/lib/python3.6/dist-packages (from tensorflow==2.3.0->DEEPWRAP==50.3.0) (1.6.3)\n",
            "Requirement already satisfied: absl-py>=0.7.0 in /usr/local/lib/python3.6/dist-packages (from tensorflow==2.3.0->DEEPWRAP==50.3.0) (0.10.0)\n",
            "Requirement already satisfied: numpy<1.19.0,>=1.16.0 in /usr/local/lib/python3.6/dist-packages (from tensorflow==2.3.0->DEEPWRAP==50.3.0) (1.18.5)\n",
            "Requirement already satisfied: tensorboard<3,>=2.3.0 in /usr/local/lib/python3.6/dist-packages (from tensorflow==2.3.0->DEEPWRAP==50.3.0) (2.3.0)\n",
            "Requirement already satisfied: tensorflow-estimator<2.4.0,>=2.3.0 in /usr/local/lib/python3.6/dist-packages (from tensorflow==2.3.0->DEEPWRAP==50.3.0) (2.3.0)\n",
            "Requirement already satisfied: wrapt>=1.11.1 in /usr/local/lib/python3.6/dist-packages (from tensorflow==2.3.0->DEEPWRAP==50.3.0) (1.12.1)\n",
            "Requirement already satisfied: gast==0.3.3 in /usr/local/lib/python3.6/dist-packages (from tensorflow==2.3.0->DEEPWRAP==50.3.0) (0.3.3)\n",
            "Requirement already satisfied: six>=1.12.0 in /usr/local/lib/python3.6/dist-packages (from tensorflow==2.3.0->DEEPWRAP==50.3.0) (1.15.0)\n",
            "Requirement already satisfied: wheel>=0.26 in /usr/local/lib/python3.6/dist-packages (from tensorflow==2.3.0->DEEPWRAP==50.3.0) (0.35.1)\n",
            "Requirement already satisfied: opt-einsum>=2.3.2 in /usr/local/lib/python3.6/dist-packages (from tensorflow==2.3.0->DEEPWRAP==50.3.0) (3.3.0)\n",
            "Requirement already satisfied: termcolor>=1.1.0 in /usr/local/lib/python3.6/dist-packages (from tensorflow==2.3.0->DEEPWRAP==50.3.0) (1.1.0)\n",
            "Requirement already satisfied: grpcio>=1.8.6 in /usr/local/lib/python3.6/dist-packages (from tensorflow==2.3.0->DEEPWRAP==50.3.0) (1.32.0)\n",
            "Requirement already satisfied: keras-preprocessing<1.2,>=1.1.1 in /usr/local/lib/python3.6/dist-packages (from tensorflow==2.3.0->DEEPWRAP==50.3.0) (1.1.2)\n",
            "Requirement already satisfied: google-pasta>=0.1.8 in /usr/local/lib/python3.6/dist-packages (from tensorflow==2.3.0->DEEPWRAP==50.3.0) (0.2.0)\n",
            "Requirement already satisfied: protobuf>=3.9.2 in /usr/local/lib/python3.6/dist-packages (from tensorflow==2.3.0->DEEPWRAP==50.3.0) (3.12.4)\n",
            "Requirement already satisfied: cycler>=0.10 in /usr/local/lib/python3.6/dist-packages (from matplotlib>=3.0.0->DEEPWRAP==50.3.0) (0.10.0)\n",
            "Requirement already satisfied: kiwisolver>=1.0.1 in /usr/local/lib/python3.6/dist-packages (from matplotlib>=3.0.0->DEEPWRAP==50.3.0) (1.2.0)\n",
            "Requirement already satisfied: pyparsing!=2.0.4,!=2.1.2,!=2.1.6,>=2.0.1 in /usr/local/lib/python3.6/dist-packages (from matplotlib>=3.0.0->DEEPWRAP==50.3.0) (2.4.7)\n",
            "Requirement already satisfied: python-dateutil>=2.1 in /usr/local/lib/python3.6/dist-packages (from matplotlib>=3.0.0->DEEPWRAP==50.3.0) (2.8.1)\n",
            "Requirement already satisfied: pytz>=2017.2 in /usr/local/lib/python3.6/dist-packages (from pandas>=1.0.1->DEEPWRAP==50.3.0) (2018.9)\n",
            "Requirement already satisfied: Keras>=2.4.3 in /usr/local/lib/python3.6/dist-packages (from keras_bert>=0.81.0->DEEPWRAP==50.3.0) (2.4.3)\n",
            "Collecting keras-transformer>=0.38.0\n",
            "  Downloading https://files.pythonhosted.org/packages/89/6c/d6f0c164f4cc16fbc0d0fea85f5526e87a7d2df7b077809e422a7e626150/keras-transformer-0.38.0.tar.gz\n",
            "Requirement already satisfied: certifi>=2017.4.17 in /usr/local/lib/python3.6/dist-packages (from requests->DEEPWRAP==50.3.0) (2020.6.20)\n",
            "Requirement already satisfied: urllib3!=1.25.0,!=1.25.1,<1.26,>=1.21.1 in /usr/local/lib/python3.6/dist-packages (from requests->DEEPWRAP==50.3.0) (1.24.3)\n",
            "Requirement already satisfied: idna<3,>=2.5 in /usr/local/lib/python3.6/dist-packages (from requests->DEEPWRAP==50.3.0) (2.10)\n",
            "Requirement already satisfied: chardet<4,>=3.0.2 in /usr/local/lib/python3.6/dist-packages (from requests->DEEPWRAP==50.3.0) (3.0.4)\n",
            "Requirement already satisfied: decorator>=4.3.0 in /usr/local/lib/python3.6/dist-packages (from networkx>=2.3->DEEPWRAP==50.3.0) (4.4.2)\n",
            "Requirement already satisfied: PyYAML>=3.10 in /usr/local/lib/python3.6/dist-packages (from bokeh->DEEPWRAP==50.3.0) (3.13)\n",
            "Requirement already satisfied: Jinja2>=2.7 in /usr/local/lib/python3.6/dist-packages (from bokeh->DEEPWRAP==50.3.0) (2.11.2)\n",
            "Requirement already satisfied: typing-extensions>=3.7.4 in /usr/local/lib/python3.6/dist-packages (from bokeh->DEEPWRAP==50.3.0) (3.7.4.3)\n",
            "Requirement already satisfied: pillow>=4.0 in /usr/local/lib/python3.6/dist-packages (from bokeh->DEEPWRAP==50.3.0) (7.0.0)\n",
            "Requirement already satisfied: tornado>=5.1 in /usr/local/lib/python3.6/dist-packages (from bokeh->DEEPWRAP==50.3.0) (5.1.1)\n",
            "Requirement already satisfied: promise in /usr/local/lib/python3.6/dist-packages (from tensorflow_datasets->DEEPWRAP==50.3.0) (2.3)\n",
            "Requirement already satisfied: attrs>=18.1.0 in /usr/local/lib/python3.6/dist-packages (from tensorflow_datasets->DEEPWRAP==50.3.0) (20.2.0)\n",
            "Requirement already satisfied: tensorflow-metadata in /usr/local/lib/python3.6/dist-packages (from tensorflow_datasets->DEEPWRAP==50.3.0) (0.24.0)\n",
            "Requirement already satisfied: tqdm in /usr/local/lib/python3.6/dist-packages (from tensorflow_datasets->DEEPWRAP==50.3.0) (4.41.1)\n",
            "Requirement already satisfied: dill in /usr/local/lib/python3.6/dist-packages (from tensorflow_datasets->DEEPWRAP==50.3.0) (0.3.2)\n",
            "Requirement already satisfied: future in /usr/local/lib/python3.6/dist-packages (from tensorflow_datasets->DEEPWRAP==50.3.0) (0.16.0)\n",
            "Requirement already satisfied: regex!=2019.12.17 in /usr/local/lib/python3.6/dist-packages (from transformers>=2.11.0->DEEPWRAP==50.3.0) (2019.12.20)\n",
            "Collecting sentencepiece!=0.1.92\n",
            "\u001b[?25l  Downloading https://files.pythonhosted.org/packages/d4/a4/d0a884c4300004a78cca907a6ff9a5e9fe4f090f5d95ab341c53d28cbc58/sentencepiece-0.1.91-cp36-cp36m-manylinux1_x86_64.whl (1.1MB)\n",
            "\u001b[K     |████████████████████████████████| 1.1MB 43.6MB/s \n",
            "\u001b[?25hRequirement already satisfied: filelock in /usr/local/lib/python3.6/dist-packages (from transformers>=2.11.0->DEEPWRAP==50.3.0) (3.0.12)\n",
            "Collecting sacremoses\n",
            "\u001b[?25l  Downloading https://files.pythonhosted.org/packages/7d/34/09d19aff26edcc8eb2a01bed8e98f13a1537005d31e95233fd48216eed10/sacremoses-0.0.43.tar.gz (883kB)\n",
            "\u001b[K     |████████████████████████████████| 890kB 42.9MB/s \n",
            "\u001b[?25hCollecting tokenizers==0.8.1.rc2\n",
            "\u001b[?25l  Downloading https://files.pythonhosted.org/packages/80/83/8b9fccb9e48eeb575ee19179e2bdde0ee9a1904f97de5f02d19016b8804f/tokenizers-0.8.1rc2-cp36-cp36m-manylinux1_x86_64.whl (3.0MB)\n",
            "\u001b[K     |████████████████████████████████| 3.0MB 45.6MB/s \n",
            "\u001b[?25hRequirement already satisfied: dataclasses; python_version < \"3.7\" in /usr/local/lib/python3.6/dist-packages (from transformers>=2.11.0->DEEPWRAP==50.3.0) (0.7)\n",
            "Requirement already satisfied: setuptools>=18.5 in /usr/local/lib/python3.6/dist-packages (from ipython->DEEPWRAP==50.3.0) (50.3.0)\n",
            "Requirement already satisfied: pexpect; sys_platform != \"win32\" in /usr/local/lib/python3.6/dist-packages (from ipython->DEEPWRAP==50.3.0) (4.8.0)\n",
            "Requirement already satisfied: simplegeneric>0.8 in /usr/local/lib/python3.6/dist-packages (from ipython->DEEPWRAP==50.3.0) (0.8.1)\n",
            "Requirement already satisfied: pygments in /usr/local/lib/python3.6/dist-packages (from ipython->DEEPWRAP==50.3.0) (2.6.1)\n",
            "Requirement already satisfied: prompt-toolkit<2.0.0,>=1.0.4 in /usr/local/lib/python3.6/dist-packages (from ipython->DEEPWRAP==50.3.0) (1.0.18)\n",
            "Requirement already satisfied: traitlets>=4.2 in /usr/local/lib/python3.6/dist-packages (from ipython->DEEPWRAP==50.3.0) (4.3.3)\n",
            "Requirement already satisfied: pickleshare in /usr/local/lib/python3.6/dist-packages (from ipython->DEEPWRAP==50.3.0) (0.7.5)\n",
            "Requirement already satisfied: google-auth<2,>=1.6.3 in /usr/local/lib/python3.6/dist-packages (from tensorboard<3,>=2.3.0->tensorflow==2.3.0->DEEPWRAP==50.3.0) (1.17.2)\n",
            "Requirement already satisfied: google-auth-oauthlib<0.5,>=0.4.1 in /usr/local/lib/python3.6/dist-packages (from tensorboard<3,>=2.3.0->tensorflow==2.3.0->DEEPWRAP==50.3.0) (0.4.1)\n",
            "Requirement already satisfied: werkzeug>=0.11.15 in /usr/local/lib/python3.6/dist-packages (from tensorboard<3,>=2.3.0->tensorflow==2.3.0->DEEPWRAP==50.3.0) (1.0.1)\n",
            "Requirement already satisfied: markdown>=2.6.8 in /usr/local/lib/python3.6/dist-packages (from tensorboard<3,>=2.3.0->tensorflow==2.3.0->DEEPWRAP==50.3.0) (3.2.2)\n",
            "Requirement already satisfied: tensorboard-plugin-wit>=1.6.0 in /usr/local/lib/python3.6/dist-packages (from tensorboard<3,>=2.3.0->tensorflow==2.3.0->DEEPWRAP==50.3.0) (1.7.0)\n",
            "Collecting keras-pos-embd>=0.11.0\n",
            "  Downloading https://files.pythonhosted.org/packages/09/70/b63ed8fc660da2bb6ae29b9895401c628da5740c048c190b5d7107cadd02/keras-pos-embd-0.11.0.tar.gz\n",
            "Collecting keras-multi-head>=0.27.0\n",
            "  Downloading https://files.pythonhosted.org/packages/e6/32/45adf2549450aca7867deccfa04af80a0ab1ca139af44b16bc669e0e09cd/keras-multi-head-0.27.0.tar.gz\n",
            "Collecting keras-layer-normalization>=0.14.0\n",
            "  Downloading https://files.pythonhosted.org/packages/a4/0e/d1078df0494bac9ce1a67954e5380b6e7569668f0f3b50a9531c62c1fc4a/keras-layer-normalization-0.14.0.tar.gz\n",
            "Collecting keras-position-wise-feed-forward>=0.6.0\n",
            "  Downloading https://files.pythonhosted.org/packages/e3/59/f0faa1037c033059e7e9e7758e6c23b4d1c0772cd48de14c4b6fd4033ad5/keras-position-wise-feed-forward-0.6.0.tar.gz\n",
            "Collecting keras-embed-sim>=0.8.0\n",
            "  Downloading https://files.pythonhosted.org/packages/57/ef/61a1e39082c9e1834a2d09261d4a0b69f7c818b359216d4e1912b20b1c86/keras-embed-sim-0.8.0.tar.gz\n",
            "Requirement already satisfied: MarkupSafe>=0.23 in /usr/local/lib/python3.6/dist-packages (from Jinja2>=2.7->bokeh->DEEPWRAP==50.3.0) (1.1.1)\n",
            "Requirement already satisfied: googleapis-common-protos<2,>=1.52.0 in /usr/local/lib/python3.6/dist-packages (from tensorflow-metadata->tensorflow_datasets->DEEPWRAP==50.3.0) (1.52.0)\n",
            "Requirement already satisfied: click in /usr/local/lib/python3.6/dist-packages (from sacremoses->transformers>=2.11.0->DEEPWRAP==50.3.0) (7.1.2)\n",
            "Requirement already satisfied: ptyprocess>=0.5 in /usr/local/lib/python3.6/dist-packages (from pexpect; sys_platform != \"win32\"->ipython->DEEPWRAP==50.3.0) (0.6.0)\n",
            "Requirement already satisfied: wcwidth in /usr/local/lib/python3.6/dist-packages (from prompt-toolkit<2.0.0,>=1.0.4->ipython->DEEPWRAP==50.3.0) (0.2.5)\n",
            "Requirement already satisfied: ipython-genutils in /usr/local/lib/python3.6/dist-packages (from traitlets>=4.2->ipython->DEEPWRAP==50.3.0) (0.2.0)\n",
            "Requirement already satisfied: cachetools<5.0,>=2.0.0 in /usr/local/lib/python3.6/dist-packages (from google-auth<2,>=1.6.3->tensorboard<3,>=2.3.0->tensorflow==2.3.0->DEEPWRAP==50.3.0) (4.1.1)\n",
            "Requirement already satisfied: rsa<5,>=3.1.4; python_version >= \"3\" in /usr/local/lib/python3.6/dist-packages (from google-auth<2,>=1.6.3->tensorboard<3,>=2.3.0->tensorflow==2.3.0->DEEPWRAP==50.3.0) (4.6)\n",
            "Requirement already satisfied: pyasn1-modules>=0.2.1 in /usr/local/lib/python3.6/dist-packages (from google-auth<2,>=1.6.3->tensorboard<3,>=2.3.0->tensorflow==2.3.0->DEEPWRAP==50.3.0) (0.2.8)\n",
            "Requirement already satisfied: requests-oauthlib>=0.7.0 in /usr/local/lib/python3.6/dist-packages (from google-auth-oauthlib<0.5,>=0.4.1->tensorboard<3,>=2.3.0->tensorflow==2.3.0->DEEPWRAP==50.3.0) (1.3.0)\n",
            "Requirement already satisfied: importlib-metadata; python_version < \"3.8\" in /usr/local/lib/python3.6/dist-packages (from markdown>=2.6.8->tensorboard<3,>=2.3.0->tensorflow==2.3.0->DEEPWRAP==50.3.0) (2.0.0)\n",
            "Collecting keras-self-attention==0.46.0\n",
            "  Downloading https://files.pythonhosted.org/packages/15/6b/c804924a056955fa1f3ff767945187103cfc851ba9bd0fc5a6c6bc18e2eb/keras-self-attention-0.46.0.tar.gz\n",
            "Requirement already satisfied: pyasn1>=0.1.3 in /usr/local/lib/python3.6/dist-packages (from rsa<5,>=3.1.4; python_version >= \"3\"->google-auth<2,>=1.6.3->tensorboard<3,>=2.3.0->tensorflow==2.3.0->DEEPWRAP==50.3.0) (0.4.8)\n",
            "Requirement already satisfied: oauthlib>=3.0.0 in /usr/local/lib/python3.6/dist-packages (from requests-oauthlib>=0.7.0->google-auth-oauthlib<0.5,>=0.4.1->tensorboard<3,>=2.3.0->tensorflow==2.3.0->DEEPWRAP==50.3.0) (3.1.0)\n",
            "Requirement already satisfied: zipp>=0.5 in /usr/local/lib/python3.6/dist-packages (from importlib-metadata; python_version < \"3.8\"->markdown>=2.6.8->tensorboard<3,>=2.3.0->tensorflow==2.3.0->DEEPWRAP==50.3.0) (3.2.0)\n",
            "Building wheels for collected packages: DEEPWRAP, keras-bert, langdetect, seqeval, syntok, keras-transformer, sacremoses, keras-pos-embd, keras-multi-head, keras-layer-normalization, keras-position-wise-feed-forward, keras-embed-sim, keras-self-attention\n",
            "  Building wheel for DEEPWRAP (setup.py) ... \u001b[?25l\u001b[?25hdone\n",
            "  Created wheel for DEEPWRAP: filename=DEEPWRAP-50.3.0-cp36-none-any.whl size=159940 sha256=ec2762e6e50a6c7f196d398369add89e6df8f82ba1e43eede91c03c9db3ab6ab\n",
            "  Stored in directory: /tmp/pip-ephem-wheel-cache-eg9bmf0c/wheels/af/24/a8/dcb01380ee1bfb5222e1d610d7c073dceb7fe7e7152f037011\n",
            "  Building wheel for keras-bert (setup.py) ... \u001b[?25l\u001b[?25hdone\n",
            "  Created wheel for keras-bert: filename=keras_bert-0.86.0-cp36-none-any.whl size=34145 sha256=f88e3ae6e417b19cbc7273e716ccb3c2957452695cf61ef9dde9205c269f6546\n",
            "  Stored in directory: /root/.cache/pip/wheels/66/f0/b1/748128b58562fc9e31b907bb5e2ab6a35eb37695e83911236b\n",
            "  Building wheel for langdetect (setup.py) ... \u001b[?25l\u001b[?25hdone\n",
            "  Created wheel for langdetect: filename=langdetect-1.0.8-cp36-none-any.whl size=993195 sha256=3c06bc9beb1430a2b1e40b06d7fef7fe8d9943e9aae81bb1aebc599b218da55d\n",
            "  Stored in directory: /root/.cache/pip/wheels/8d/b3/aa/6d99de9f3841d7d3d40a60ea06e6d669e8e5012e6c8b947a57\n",
            "  Building wheel for seqeval (setup.py) ... \u001b[?25l\u001b[?25hdone\n",
            "  Created wheel for seqeval: filename=seqeval-1.1.0-cp36-none-any.whl size=14116 sha256=998a91edaf7e0433dbabc1439b55c9cf1623d3353ce860065ae163024e892799\n",
            "  Stored in directory: /root/.cache/pip/wheels/67/ba/2b/f4dd41aef3b9207cd61117ccccb055a6710b677ebbd33992d1\n",
            "  Building wheel for syntok (setup.py) ... \u001b[?25l\u001b[?25hdone\n",
            "  Created wheel for syntok: filename=syntok-1.3.1-cp36-none-any.whl size=20919 sha256=8867d11a0833ef983facd9b9174dda6cdd6e6b5a1b4e2c6d22fd85f397889770\n",
            "  Stored in directory: /root/.cache/pip/wheels/51/c6/a4/be1920586c49469846bcd2888200bdecfe109ec421dab9be2d\n",
            "  Building wheel for keras-transformer (setup.py) ... \u001b[?25l\u001b[?25hdone\n",
            "  Created wheel for keras-transformer: filename=keras_transformer-0.38.0-cp36-none-any.whl size=12942 sha256=b99ea34d70a546d907134462e841726e52fa63f9be0fb438107dd19c0eb37d6a\n",
            "  Stored in directory: /root/.cache/pip/wheels/e5/fb/3a/37b2b9326c799aa010ae46a04ddb04f320d8c77c0b7e837f4e\n",
            "  Building wheel for sacremoses (setup.py) ... \u001b[?25l\u001b[?25hdone\n",
            "  Created wheel for sacremoses: filename=sacremoses-0.0.43-cp36-none-any.whl size=893257 sha256=4caac7dda20f912e0d03d91296227bb25dad47f6361c835703680aa00390a0fc\n",
            "  Stored in directory: /root/.cache/pip/wheels/29/3c/fd/7ce5c3f0666dab31a50123635e6fb5e19ceb42ce38d4e58f45\n",
            "  Building wheel for keras-pos-embd (setup.py) ... \u001b[?25l\u001b[?25hdone\n",
            "  Created wheel for keras-pos-embd: filename=keras_pos_embd-0.11.0-cp36-none-any.whl size=7554 sha256=a420a64d0a7f34b93d59502209e74b70d78ac2305bc7e67c904a07f2f0a0fd1c\n",
            "  Stored in directory: /root/.cache/pip/wheels/5b/a1/a0/ce6b1d49ba1a9a76f592e70cf297b05c96bc9f418146761032\n",
            "  Building wheel for keras-multi-head (setup.py) ... \u001b[?25l\u001b[?25hdone\n",
            "  Created wheel for keras-multi-head: filename=keras_multi_head-0.27.0-cp36-none-any.whl size=15612 sha256=d8f55eb3f144ab67f1a1ebd2b886b8f3f1545f509c46f04531a9f1a1398c0084\n",
            "  Stored in directory: /root/.cache/pip/wheels/b5/b4/49/0a0c27dcb93c13af02fea254ff51d1a43a924dd4e5b7a7164d\n",
            "  Building wheel for keras-layer-normalization (setup.py) ... \u001b[?25l\u001b[?25hdone\n",
            "  Created wheel for keras-layer-normalization: filename=keras_layer_normalization-0.14.0-cp36-none-any.whl size=5268 sha256=ad31026523575a997230106111cf08f4c9e3c42d514f1cda1e88b8e46338731e\n",
            "  Stored in directory: /root/.cache/pip/wheels/54/80/22/a638a7d406fd155e507aa33d703e3fa2612b9eb7bb4f4fe667\n",
            "  Building wheel for keras-position-wise-feed-forward (setup.py) ... \u001b[?25l\u001b[?25hdone\n",
            "  Created wheel for keras-position-wise-feed-forward: filename=keras_position_wise_feed_forward-0.6.0-cp36-none-any.whl size=5626 sha256=fdc885d51dfc5734631b443b86bb1e953d80f57df3e0af0552492b18ba0590c6\n",
            "  Stored in directory: /root/.cache/pip/wheels/39/e2/e2/3514fef126a00574b13bc0b9e23891800158df3a3c19c96e3b\n",
            "  Building wheel for keras-embed-sim (setup.py) ... \u001b[?25l\u001b[?25hdone\n",
            "  Created wheel for keras-embed-sim: filename=keras_embed_sim-0.8.0-cp36-none-any.whl size=4559 sha256=0d91b880208a6b1e497b308a9c9a15f514cd64d21e92c4bfd2a632d6f11d8b18\n",
            "  Stored in directory: /root/.cache/pip/wheels/49/45/8b/c111f6cc8bec253e984677de73a6f4f5d2f1649f42aac191c8\n",
            "  Building wheel for keras-self-attention (setup.py) ... \u001b[?25l\u001b[?25hdone\n",
            "  Created wheel for keras-self-attention: filename=keras_self_attention-0.46.0-cp36-none-any.whl size=17278 sha256=6565ea7648f7a79566913dce8741af21b822a990791a9a03bf743cc37286ea08\n",
            "  Stored in directory: /root/.cache/pip/wheels/d2/2e/80/fec4c05eb23c8e13b790e26d207d6e0ffe8013fad8c6bdd4d2\n",
            "Successfully built DEEPWRAP keras-bert langdetect seqeval syntok keras-transformer sacremoses keras-pos-embd keras-multi-head keras-layer-normalization keras-position-wise-feed-forward keras-embed-sim keras-self-attention\n",
            "\u001b[31mERROR: tensorflow 2.3.0 has requirement scipy==1.4.1, but you'll have scipy 1.5.2 which is incompatible.\u001b[0m\n",
            "\u001b[31mERROR: albumentations 0.1.12 has requirement imgaug<0.2.7,>=0.2.5, but you'll have imgaug 0.2.9 which is incompatible.\u001b[0m\n",
            "\u001b[31mERROR: seqeval 1.1.0 has requirement numpy==1.19.2, but you'll have numpy 1.18.5 which is incompatible.\u001b[0m\n",
            "\u001b[31mERROR: seqeval 1.1.0 has requirement scikit-learn==0.23.2, but you'll have scikit-learn 0.22.2.post1 which is incompatible.\u001b[0m\n",
            "Installing collected packages: scipy, keras-pos-embd, keras-self-attention, keras-multi-head, keras-layer-normalization, keras-position-wise-feed-forward, keras-embed-sim, keras-transformer, keras-bert, langdetect, cchardet, seqeval, sentencepiece, sacremoses, tokenizers, transformers, syntok, whoosh, DEEPWRAP\n",
            "  Found existing installation: scipy 1.4.1\n",
            "    Uninstalling scipy-1.4.1:\n",
            "      Successfully uninstalled scipy-1.4.1\n",
            "Successfully installed DEEPWRAP-50.3.0 cchardet-2.1.6 keras-bert-0.86.0 keras-embed-sim-0.8.0 keras-layer-normalization-0.14.0 keras-multi-head-0.27.0 keras-pos-embd-0.11.0 keras-position-wise-feed-forward-0.6.0 keras-self-attention-0.46.0 keras-transformer-0.38.0 langdetect-1.0.8 sacremoses-0.0.43 scipy-1.5.2 sentencepiece-0.1.91 seqeval-1.1.0 syntok-1.3.1 tokenizers-0.8.1rc2 transformers-3.3.1 whoosh-2.7.4\n"
          ],
          "name": "stdout"
        }
      ]
    },
    {
      "cell_type": "code",
      "metadata": {
        "id": "U1ut5wfLBgF6"
      },
      "source": [
        "%matplotlib inline\n",
        "import os\n",
        "\n",
        "os.environ[\"CUDA_DEVICE_ORDER\"] = \"PCI_BUS_ID\";\n",
        "os.environ[\"CUDA_VISIBLE_DEVICES\"] = \"0\";\n",
        "\n",
        "import urllib.request\n",
        "import pandas as pd\n",
        "import numpy as np\n",
        "\n",
        "pd.set_option('display.max_columns', None)\n",
        "\n",
        "import deepwrap\n",
        "from deepwrap import tabledata"
      ],
      "execution_count": 2,
      "outputs": []
    },
    {
      "cell_type": "markdown",
      "metadata": {
        "id": "w0RWEMI1B6ul"
      },
      "source": [
        "Collect Training and Test Sets"
      ]
    },
    {
      "cell_type": "code",
      "metadata": {
        "id": "M1uD9H5IBPLz",
        "outputId": "b7cbc195-9f10-4c0e-f6ec-c7e47f578cb7",
        "colab": {
          "base_uri": "https://localhost:8080/",
          "height": 51
        }
      },
      "source": [
        "# training set\n",
        "# download dataset\n",
        "urllib.request.urlretrieve('https://autogluon.s3.amazonaws.com/datasets/Inc/train.csv',\n",
        "                           '/content/deepwrap/examples/income/train.csv')"
      ],
      "execution_count": 3,
      "outputs": [
        {
          "output_type": "execute_result",
          "data": {
            "text/plain": [
              "('/content/deepwrap/examples/income/train.csv',\n",
              " <http.client.HTTPMessage at 0x7fafe8e44ba8>)"
            ]
          },
          "metadata": {
            "tags": []
          },
          "execution_count": 3
        }
      ]
    },
    {
      "cell_type": "markdown",
      "metadata": {
        "id": "RESTrN2IB-Gu"
      },
      "source": [
        "STEP 1: Load and Preprocess Data"
      ]
    },
    {
      "cell_type": "code",
      "metadata": {
        "id": "ufR7jZ0xagGL",
        "outputId": "1ed867b1-4bbd-4cc6-91d2-839c07f684e4",
        "colab": {
          "base_uri": "https://localhost:8080/",
          "height": 153
        }
      },
      "source": [
        "trn, val, preproc = tabledata.load_from_csv('/content/deepwrap/examples/income/train.csv',\n",
        "                                            label_columns='class', random_state=42)"
      ],
      "execution_count": 4,
      "outputs": [
        {
          "output_type": "stream",
          "text": [
            "processing train: 35179 rows x 15 columns\n",
            "\n",
            "The following integer column(s) are being treated as categorical variables:\n",
            "['education-num']\n",
            "To treat any of these column(s) as numerical, cast the column to float in DataFrame or CSV\n",
            " and re-run tabular_from* function.\n",
            "\n",
            "processing test: 3894 rows x 15 columns\n"
          ],
          "name": "stdout"
        }
      ]
    },
    {
      "cell_type": "code",
      "metadata": {
        "id": "62C1y6xEct6n",
        "outputId": "1fc3fdd8-841c-48d4-e8fa-0b49b0fd565a",
        "colab": {
          "base_uri": "https://localhost:8080/",
          "height": 34
        }
      },
      "source": [
        "print(trn)"
      ],
      "execution_count": 5,
      "outputs": [
        {
          "output_type": "stream",
          "text": [
            "<deepwrap.tabledata.preprocessor.TabularDataset object at 0x7fafe761f470>\n"
          ],
          "name": "stdout"
        }
      ]
    },
    {
      "cell_type": "markdown",
      "metadata": {
        "id": "VbTwaAY6CA8y"
      },
      "source": [
        "STEP 2: Create Model and Wrap in Learner"
      ]
    },
    {
      "cell_type": "code",
      "metadata": {
        "id": "au0RXwTiCHmz",
        "outputId": "16dac119-b737-4afd-f267-842c26f848ae",
        "colab": {
          "base_uri": "https://localhost:8080/",
          "height": 51
        }
      },
      "source": [
        "# Invoking multilayer perceptron\n",
        "model = tabledata.tabular_classifier('mlp', trn)\n",
        "learner = deepwrap.get_learner(model, train_data=trn, val_data=val, batch_size=128)"
      ],
      "execution_count": 7,
      "outputs": [
        {
          "output_type": "stream",
          "text": [
            "Is Multi-Label? False\n",
            "done.\n"
          ],
          "name": "stdout"
        }
      ]
    },
    {
      "cell_type": "markdown",
      "metadata": {
        "id": "1yfSIOzqCJ8G"
      },
      "source": [
        "STEP 3: Estimate Learning Rate\n"
      ]
    },
    {
      "cell_type": "code",
      "metadata": {
        "id": "oQtYmlH0c4SZ",
        "outputId": "5fc27113-65ae-4307-c9d7-443e319299a9",
        "colab": {
          "base_uri": "https://localhost:8080/",
          "height": 1000
        }
      },
      "source": [
        "learner.lr_find(show_plot=True)\n",
        "\n",
        "\n",
        "#STEP 4: Train\n",
        "learner.autofit(1e-3)"
      ],
      "execution_count": 8,
      "outputs": [
        {
          "output_type": "stream",
          "text": [
            "simulating training for different learning rates... this may take a few moments...\n",
            "Epoch 1/1024\n",
            "274/274 [==============================] - 5s 19ms/step - loss: 0.6618 - accuracy: 0.7619\n",
            "Epoch 2/1024\n",
            "274/274 [==============================] - 5s 18ms/step - loss: 0.5963 - accuracy: 0.7678\n",
            "Epoch 3/1024\n",
            "274/274 [==============================] - 5s 19ms/step - loss: 0.3959 - accuracy: 0.8199\n",
            "Epoch 4/1024\n",
            "274/274 [==============================] - 5s 18ms/step - loss: 0.3244 - accuracy: 0.8496\n",
            "Epoch 5/1024\n",
            "274/274 [==============================] - 5s 19ms/step - loss: 2.1016 - accuracy: 0.8109\n",
            "\n",
            "\n",
            "done.\n",
            "Visually inspect loss plot and select learning rate associated with falling loss\n",
            "early_stopping automatically enabled at patience=5\n",
            "reduce_on_plateau automatically enabled at patience=2\n",
            "\n",
            "\n",
            "begin training using triangular learning rate policy with max lr of 0.001...\n",
            "Epoch 1/1024\n",
            "275/275 [==============================] - 7s 26ms/step - loss: 0.3596 - accuracy: 0.8353 - val_loss: 0.2960 - val_accuracy: 0.8641\n",
            "Epoch 2/1024\n",
            "275/275 [==============================] - 7s 26ms/step - loss: 0.3136 - accuracy: 0.8553 - val_loss: 0.2963 - val_accuracy: 0.8631\n",
            "Epoch 3/1024\n",
            "275/275 [==============================] - 7s 27ms/step - loss: 0.3109 - accuracy: 0.8562 - val_loss: 0.2945 - val_accuracy: 0.8611\n",
            "Epoch 4/1024\n",
            "275/275 [==============================] - 7s 26ms/step - loss: 0.3083 - accuracy: 0.8586 - val_loss: 0.2939 - val_accuracy: 0.8629\n",
            "Epoch 5/1024\n",
            "275/275 [==============================] - 7s 24ms/step - loss: 0.3065 - accuracy: 0.8584 - val_loss: 0.2953 - val_accuracy: 0.8626\n",
            "Epoch 6/1024\n",
            "274/275 [============================>.] - ETA: 0s - loss: 0.3050 - accuracy: 0.8588\n",
            "Epoch 00006: Reducing Max LR on Plateau: new max lr will be 0.0005 (if not early_stopping).\n",
            "275/275 [==============================] - 7s 25ms/step - loss: 0.3048 - accuracy: 0.8589 - val_loss: 0.2953 - val_accuracy: 0.8621\n",
            "Epoch 7/1024\n",
            "275/275 [==============================] - 7s 26ms/step - loss: 0.3016 - accuracy: 0.8617 - val_loss: 0.2925 - val_accuracy: 0.8641\n",
            "Epoch 8/1024\n",
            "275/275 [==============================] - 7s 26ms/step - loss: 0.3001 - accuracy: 0.8619 - val_loss: 0.2930 - val_accuracy: 0.8618\n",
            "Epoch 9/1024\n",
            "275/275 [==============================] - 7s 25ms/step - loss: 0.2986 - accuracy: 0.8630 - val_loss: 0.2901 - val_accuracy: 0.8639\n",
            "Epoch 10/1024\n",
            "275/275 [==============================] - 7s 25ms/step - loss: 0.2976 - accuracy: 0.8631 - val_loss: 0.2905 - val_accuracy: 0.8665\n",
            "Epoch 11/1024\n",
            "272/275 [============================>.] - ETA: 0s - loss: 0.2967 - accuracy: 0.8643\n",
            "Epoch 00011: Reducing Max LR on Plateau: new max lr will be 0.00025 (if not early_stopping).\n",
            "275/275 [==============================] - 7s 25ms/step - loss: 0.2967 - accuracy: 0.8643 - val_loss: 0.2905 - val_accuracy: 0.8639\n",
            "Epoch 12/1024\n",
            "275/275 [==============================] - 7s 25ms/step - loss: 0.2935 - accuracy: 0.8653 - val_loss: 0.2905 - val_accuracy: 0.8657\n",
            "Epoch 13/1024\n",
            "274/275 [============================>.] - ETA: 0s - loss: 0.2921 - accuracy: 0.8644\n",
            "Epoch 00013: Reducing Max LR on Plateau: new max lr will be 0.000125 (if not early_stopping).\n",
            "275/275 [==============================] - 7s 25ms/step - loss: 0.2924 - accuracy: 0.8643 - val_loss: 0.2901 - val_accuracy: 0.8634\n",
            "Epoch 14/1024\n",
            "272/275 [============================>.] - ETA: 0s - loss: 0.2902 - accuracy: 0.8660Restoring model weights from the end of the best epoch.\n",
            "275/275 [==============================] - 7s 25ms/step - loss: 0.2902 - accuracy: 0.8659 - val_loss: 0.2905 - val_accuracy: 0.8639\n",
            "Epoch 00014: early stopping\n",
            "Weights from best epoch have been loaded into model.\n"
          ],
          "name": "stdout"
        },
        {
          "output_type": "execute_result",
          "data": {
            "text/plain": [
              "<tensorflow.python.keras.callbacks.History at 0x7fafe8558588>"
            ]
          },
          "metadata": {
            "tags": []
          },
          "execution_count": 8
        },
        {
          "output_type": "display_data",
          "data": {
            "image/png": "[encoded data removed]",
            "text/plain": [
              "<Figure size 432x288 with 1 Axes>"
            ]
          },
          "metadata": {
            "tags": [],
            "needs_background": "light"
          }
        }
      ]
    },
    {
      "cell_type": "code",
      "metadata": {
        "id": "NqG0gwukdCPt",
        "outputId": "dd6e846d-6357-4948-e62d-1832a7741a50",
        "colab": {
          "base_uri": "https://localhost:8080/",
          "height": 204
        }
      },
      "source": [
        "learner.validate(class_names=preproc.get_classes())"
      ],
      "execution_count": 9,
      "outputs": [
        {
          "output_type": "stream",
          "text": [
            "              precision    recall  f1-score   support\n",
            "\n",
            "       <=50K       0.89      0.94      0.91      3013\n",
            "        >50K       0.74      0.61      0.67       881\n",
            "\n",
            "    accuracy                           0.86      3894\n",
            "   macro avg       0.82      0.78      0.79      3894\n",
            "weighted avg       0.86      0.86      0.86      3894\n",
            "\n"
          ],
          "name": "stdout"
        },
        {
          "output_type": "execute_result",
          "data": {
            "text/plain": [
              "array([[2823,  190],\n",
              "       [ 340,  541]])"
            ]
          },
          "metadata": {
            "tags": []
          },
          "execution_count": 9
        }
      ]
    },
    {
      "cell_type": "markdown",
      "metadata": {
        "id": "xH7vizgLCXG7"
      },
      "source": [
        "Evaluate Model on Unseen Test Data\n"
      ]
    },
    {
      "cell_type": "code",
      "metadata": {
        "id": "-pYRLoaTdq5k",
        "outputId": "42c8b770-7c10-4ecf-a422-5d3b93996bc9",
        "colab": {
          "base_uri": "https://localhost:8080/",
          "height": 697
        }
      },
      "source": [
        "# download test dataset\n",
        "urllib.request.urlretrieve('https://autogluon.s3.amazonaws.com/datasets/Inc/test.csv', \n",
        "                           '/content/deepwrap/examples/income/test.csv')\n",
        "\n",
        "test_df = pd.read_csv('/content/deepwrap/examples/income/test.csv')\n",
        "print(test_df)\n"
      ],
      "execution_count": 11,
      "outputs": [
        {
          "output_type": "stream",
          "text": [
            "      age          workclass  fnlwgt      education  education-num  \\\n",
            "0      31            Private  169085           11th              7   \n",
            "1      17   Self-emp-not-inc  226203           12th              8   \n",
            "2      47            Private   54260      Assoc-voc             11   \n",
            "3      21            Private  176262   Some-college             10   \n",
            "4      17            Private  241185           12th              8   \n",
            "...   ...                ...     ...            ...            ...   \n",
            "9764   36            Private  191146   Some-college             10   \n",
            "9765   34            Private  422836        HS-grad              9   \n",
            "9766   44            Private   75012        HS-grad              9   \n",
            "9767   18            Private  194561   Some-college             10   \n",
            "9768   42        Federal-gov   53727        HS-grad              9   \n",
            "\n",
            "           marital-status         occupation relationship    race      sex  \\\n",
            "0      Married-civ-spouse              Sales         Wife   White   Female   \n",
            "1           Never-married              Sales    Own-child   White     Male   \n",
            "2      Married-civ-spouse    Exec-managerial      Husband   White     Male   \n",
            "3           Never-married    Exec-managerial    Own-child   White   Female   \n",
            "4           Never-married     Prof-specialty    Own-child   White     Male   \n",
            "...                   ...                ...          ...     ...      ...   \n",
            "9764             Divorced              Sales    Unmarried   Black   Female   \n",
            "9765             Divorced     Prof-specialty    Unmarried   White     Male   \n",
            "9766   Married-civ-spouse    Farming-fishing      Husband   White     Male   \n",
            "9767        Never-married      Other-service    Own-child   White     Male   \n",
            "9768   Married-civ-spouse   Transport-moving      Husband   White     Male   \n",
            "\n",
            "      capital-gain  capital-loss  hours-per-week  native-country   class  \n",
            "0                0             0              20   United-States   <=50K  \n",
            "1                0             0              45   United-States   <=50K  \n",
            "2                0          1887              60   United-States    >50K  \n",
            "3                0             0              30   United-States   <=50K  \n",
            "4                0             0              20   United-States   <=50K  \n",
            "...            ...           ...             ...             ...     ...  \n",
            "9764             0             0              38   United-States   <=50K  \n",
            "9765             0             0              40          Mexico   <=50K  \n",
            "9766             0             0              80   United-States   <=50K  \n",
            "9767             0             0              12   United-States   <=50K  \n",
            "9768             0             0              40               ?   <=50K  \n",
            "\n",
            "[9769 rows x 15 columns]\n"
          ],
          "name": "stdout"
        }
      ]
    },
    {
      "cell_type": "code",
      "metadata": {
        "id": "BlBIeHTLd0-5",
        "outputId": "3d4191b6-ccd7-4add-b6f5-f36454cd088a",
        "colab": {
          "base_uri": "https://localhost:8080/",
          "height": 204
        }
      },
      "source": [
        "learner.evaluate(preproc.preprocess_test(test_df), class_names=preproc.get_classes())\n",
        "\n",
        "#Generating Test Results\n",
        "#Let's generate a DataFrame showing the test set predictions for each instance:\n",
        "preproc.get_classes()"
      ],
      "execution_count": 12,
      "outputs": [
        {
          "output_type": "stream",
          "text": [
            "processing test: 9769 rows x 15 columns\n",
            "              precision    recall  f1-score   support\n",
            "\n",
            "       <=50K       0.88      0.94      0.91      7451\n",
            "        >50K       0.76      0.61      0.67      2318\n",
            "\n",
            "    accuracy                           0.86      9769\n",
            "   macro avg       0.82      0.77      0.79      9769\n",
            "weighted avg       0.85      0.86      0.85      9769\n",
            "\n"
          ],
          "name": "stdout"
        },
        {
          "output_type": "execute_result",
          "data": {
            "text/plain": [
              "['<=50K', '>50K']"
            ]
          },
          "metadata": {
            "tags": []
          },
          "execution_count": 12
        }
      ]
    },
    {
      "cell_type": "markdown",
      "metadata": {
        "id": "jR9CTI6HCnPG"
      },
      "source": [
        "Predictions"
      ]
    },
    {
      "cell_type": "code",
      "metadata": {
        "id": "UYRZ83YUd869",
        "outputId": "58455c8b-0037-4bcd-bea8-d864fbe8eb96",
        "colab": {
          "base_uri": "https://localhost:8080/",
          "height": 918
        }
      },
      "source": [
        "predictor = deepwrap.get_predictor(learner.model, preproc)\n",
        "preds = predictor.predict(test_df)\n",
        "\n",
        "df = test_df.copy()\n",
        "df['predicted_class'] = preds\n",
        "\n",
        "print(df)"
      ],
      "execution_count": 13,
      "outputs": [
        {
          "output_type": "stream",
          "text": [
            "      age          workclass  fnlwgt      education  education-num  \\\n",
            "0      31            Private  169085           11th              7   \n",
            "1      17   Self-emp-not-inc  226203           12th              8   \n",
            "2      47            Private   54260      Assoc-voc             11   \n",
            "3      21            Private  176262   Some-college             10   \n",
            "4      17            Private  241185           12th              8   \n",
            "...   ...                ...     ...            ...            ...   \n",
            "9764   36            Private  191146   Some-college             10   \n",
            "9765   34            Private  422836        HS-grad              9   \n",
            "9766   44            Private   75012        HS-grad              9   \n",
            "9767   18            Private  194561   Some-college             10   \n",
            "9768   42        Federal-gov   53727        HS-grad              9   \n",
            "\n",
            "           marital-status         occupation relationship    race      sex  \\\n",
            "0      Married-civ-spouse              Sales         Wife   White   Female   \n",
            "1           Never-married              Sales    Own-child   White     Male   \n",
            "2      Married-civ-spouse    Exec-managerial      Husband   White     Male   \n",
            "3           Never-married    Exec-managerial    Own-child   White   Female   \n",
            "4           Never-married     Prof-specialty    Own-child   White     Male   \n",
            "...                   ...                ...          ...     ...      ...   \n",
            "9764             Divorced              Sales    Unmarried   Black   Female   \n",
            "9765             Divorced     Prof-specialty    Unmarried   White     Male   \n",
            "9766   Married-civ-spouse    Farming-fishing      Husband   White     Male   \n",
            "9767        Never-married      Other-service    Own-child   White     Male   \n",
            "9768   Married-civ-spouse   Transport-moving      Husband   White     Male   \n",
            "\n",
            "      capital-gain  capital-loss  hours-per-week  native-country   class  \\\n",
            "0                0             0              20   United-States   <=50K   \n",
            "1                0             0              45   United-States   <=50K   \n",
            "2                0          1887              60   United-States    >50K   \n",
            "3                0             0              30   United-States   <=50K   \n",
            "4                0             0              20   United-States   <=50K   \n",
            "...            ...           ...             ...             ...     ...   \n",
            "9764             0             0              38   United-States   <=50K   \n",
            "9765             0             0              40          Mexico   <=50K   \n",
            "9766             0             0              80   United-States   <=50K   \n",
            "9767             0             0              12   United-States   <=50K   \n",
            "9768             0             0              40               ?   <=50K   \n",
            "\n",
            "     predicted_class  \n",
            "0              <=50K  \n",
            "1              <=50K  \n",
            "2               >50K  \n",
            "3              <=50K  \n",
            "4              <=50K  \n",
            "...              ...  \n",
            "9764           <=50K  \n",
            "9765           <=50K  \n",
            "9766           <=50K  \n",
            "9767           <=50K  \n",
            "9768           <=50K  \n",
            "\n",
            "[9769 rows x 16 columns]\n"
          ],
          "name": "stdout"
        }
      ]
    },
    {
      "cell_type": "code",
      "metadata": {
        "id": "M2njcxg7eAAI"
      },
      "source": [
        ""
      ],
      "execution_count": null,
      "outputs": []
    }
  ]
}